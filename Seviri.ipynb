{
  "nbformat": 4,
  "nbformat_minor": 0,
  "metadata": {
    "colab": {
      "provenance": [],
      "mount_file_id": "1aUTXpvtYky5Rhy8RHbo1Q7wQ0YVXJQRU",
      "authorship_tag": "ABX9TyPzsseMK9DVGaI9ANO4IXhT",
      "include_colab_link": true
    },
    "kernelspec": {
      "name": "python3",
      "display_name": "Python 3"
    },
    "language_info": {
      "name": "python"
    }
  },
  "cells": [
    {
      "cell_type": "markdown",
      "metadata": {
        "id": "view-in-github",
        "colab_type": "text"
      },
      "source": [
        "<a href=\"https://colab.research.google.com/github/ravmarcin/GoogleColab/blob/main/Seviri.ipynb\" target=\"_parent\"><img src=\"https://colab.research.google.com/assets/colab-badge.svg\" alt=\"Open In Colab\"/></a>"
      ]
    },
    {
      "cell_type": "code",
      "source": [
        "!pip install geopandas rasterio pyunpack pyresample pycrs eumdac satpy"
      ],
      "metadata": {
        "id": "uTINcAVtEg-O",
        "colab": {
          "base_uri": "https://localhost:8080/"
        },
        "outputId": "40fd963d-2e08-469e-83c6-227770147abc"
      },
      "execution_count": 1,
      "outputs": [
        {
          "output_type": "stream",
          "name": "stdout",
          "text": [
            "Looking in indexes: https://pypi.org/simple, https://us-python.pkg.dev/colab-wheels/public/simple/\n",
            "Collecting geopandas\n",
            "  Downloading geopandas-0.12.2-py3-none-any.whl (1.1 MB)\n",
            "\u001b[2K     \u001b[90m━━━━━━━━━━━━━━━━━━━━━━━━━━━━━━━━━━━━━━━━\u001b[0m \u001b[32m1.1/1.1 MB\u001b[0m \u001b[31m21.3 MB/s\u001b[0m eta \u001b[36m0:00:00\u001b[0m\n",
            "\u001b[?25hCollecting rasterio\n",
            "  Downloading rasterio-1.3.6-cp39-cp39-manylinux_2_17_x86_64.manylinux2014_x86_64.whl (20.1 MB)\n",
            "\u001b[2K     \u001b[90m━━━━━━━━━━━━━━━━━━━━━━━━━━━━━━━━━━━━━━━━\u001b[0m \u001b[32m20.1/20.1 MB\u001b[0m \u001b[31m72.0 MB/s\u001b[0m eta \u001b[36m0:00:00\u001b[0m\n",
            "\u001b[?25hCollecting pyunpack\n",
            "  Downloading pyunpack-0.3-py2.py3-none-any.whl (4.1 kB)\n",
            "Collecting pyresample\n",
            "  Downloading pyresample-1.26.1-cp39-cp39-manylinux_2_17_x86_64.manylinux2014_x86_64.whl (4.0 MB)\n",
            "\u001b[2K     \u001b[90m━━━━━━━━━━━━━━━━━━━━━━━━━━━━━━━━━━━━━━━━\u001b[0m \u001b[32m4.0/4.0 MB\u001b[0m \u001b[31m85.3 MB/s\u001b[0m eta \u001b[36m0:00:00\u001b[0m\n",
            "\u001b[?25hCollecting pycrs\n",
            "  Downloading PyCRS-1.0.2.tar.gz (36 kB)\n",
            "  Preparing metadata (setup.py) ... \u001b[?25l\u001b[?25hdone\n",
            "Collecting eumdac\n",
            "  Downloading eumdac-2.0.1-py3-none-any.whl (49 kB)\n",
            "\u001b[2K     \u001b[90m━━━━━━━━━━━━━━━━━━━━━━━━━━━━━━━━━━━━━━━━\u001b[0m \u001b[32m49.5/49.5 kB\u001b[0m \u001b[31m6.3 MB/s\u001b[0m eta \u001b[36m0:00:00\u001b[0m\n",
            "\u001b[?25hCollecting satpy\n",
            "  Downloading satpy-0.41.1.tar.gz (1.3 MB)\n",
            "\u001b[2K     \u001b[90m━━━━━━━━━━━━━━━━━━━━━━━━━━━━━━━━━━━━━━━━\u001b[0m \u001b[32m1.3/1.3 MB\u001b[0m \u001b[31m67.8 MB/s\u001b[0m eta \u001b[36m0:00:00\u001b[0m\n",
            "\u001b[?25h  Installing build dependencies ... \u001b[?25l\u001b[?25hdone\n",
            "  Getting requirements to build wheel ... \u001b[?25l\u001b[?25hdone\n",
            "  Preparing metadata (pyproject.toml) ... \u001b[?25l\u001b[?25hdone\n",
            "Requirement already satisfied: shapely>=1.7 in /usr/local/lib/python3.9/dist-packages (from geopandas) (2.0.1)\n",
            "Collecting pyproj>=2.6.1.post1\n",
            "  Downloading pyproj-3.5.0-cp39-cp39-manylinux_2_17_x86_64.manylinux2014_x86_64.whl (7.8 MB)\n",
            "\u001b[2K     \u001b[90m━━━━━━━━━━━━━━━━━━━━━━━━━━━━━━━━━━━━━━━━\u001b[0m \u001b[32m7.8/7.8 MB\u001b[0m \u001b[31m95.6 MB/s\u001b[0m eta \u001b[36m0:00:00\u001b[0m\n",
            "\u001b[?25hRequirement already satisfied: pandas>=1.0.0 in /usr/local/lib/python3.9/dist-packages (from geopandas) (1.5.3)\n",
            "Collecting fiona>=1.8\n",
            "  Downloading Fiona-1.9.3-cp39-cp39-manylinux_2_17_x86_64.manylinux2014_x86_64.whl (16.1 MB)\n",
            "\u001b[2K     \u001b[90m━━━━━━━━━━━━━━━━━━━━━━━━━━━━━━━━━━━━━━━━\u001b[0m \u001b[32m16.1/16.1 MB\u001b[0m \u001b[31m87.0 MB/s\u001b[0m eta \u001b[36m0:00:00\u001b[0m\n",
            "\u001b[?25hRequirement already satisfied: packaging in /usr/local/lib/python3.9/dist-packages (from geopandas) (23.1)\n",
            "Requirement already satisfied: setuptools in /usr/local/lib/python3.9/dist-packages (from rasterio) (67.7.2)\n",
            "Requirement already satisfied: click>=4.0 in /usr/local/lib/python3.9/dist-packages (from rasterio) (8.1.3)\n",
            "Collecting click-plugins\n",
            "  Downloading click_plugins-1.1.1-py2.py3-none-any.whl (7.5 kB)\n",
            "Collecting snuggs>=1.4.1\n",
            "  Downloading snuggs-1.4.7-py3-none-any.whl (5.4 kB)\n",
            "Requirement already satisfied: attrs in /usr/local/lib/python3.9/dist-packages (from rasterio) (23.1.0)\n",
            "Collecting affine\n",
            "  Downloading affine-2.4.0-py3-none-any.whl (15 kB)\n",
            "Collecting cligj>=0.5\n",
            "  Downloading cligj-0.7.2-py3-none-any.whl (7.1 kB)\n",
            "Requirement already satisfied: certifi in /usr/local/lib/python3.9/dist-packages (from rasterio) (2022.12.7)\n",
            "Requirement already satisfied: numpy>=1.18 in /usr/local/lib/python3.9/dist-packages (from rasterio) (1.22.4)\n",
            "Collecting entrypoint2\n",
            "  Downloading entrypoint2-1.1-py2.py3-none-any.whl (9.9 kB)\n",
            "Collecting easyprocess\n",
            "  Downloading EasyProcess-1.1-py3-none-any.whl (8.7 kB)\n",
            "Requirement already satisfied: pyyaml in /usr/local/lib/python3.9/dist-packages (from pyresample) (6.0)\n",
            "Collecting configobj\n",
            "  Downloading configobj-5.0.8-py2.py3-none-any.whl (36 kB)\n",
            "Requirement already satisfied: importlib-metadata in /usr/local/lib/python3.9/dist-packages (from pyresample) (6.6.0)\n",
            "Collecting pykdtree>=1.3.1\n",
            "  Downloading pykdtree-1.3.7.post0-cp39-cp39-manylinux_2_24_x86_64.whl (276 kB)\n",
            "\u001b[2K     \u001b[90m━━━━━━━━━━━━━━━━━━━━━━━━━━━━━━━━━━━━━━\u001b[0m \u001b[32m276.0/276.0 kB\u001b[0m \u001b[31m29.3 MB/s\u001b[0m eta \u001b[36m0:00:00\u001b[0m\n",
            "\u001b[?25hRequirement already satisfied: requests>=2.5.0 in /usr/local/lib/python3.9/dist-packages (from eumdac) (2.27.1)\n",
            "Collecting donfig\n",
            "  Downloading donfig-0.7.0.tar.gz (32 kB)\n",
            "  Preparing metadata (setup.py) ... \u001b[?25l\u001b[?25hdone\n",
            "Requirement already satisfied: pillow in /usr/local/lib/python3.9/dist-packages (from satpy) (8.4.0)\n",
            "Collecting trollsift\n",
            "  Downloading trollsift-0.5.0.tar.gz (44 kB)\n",
            "\u001b[2K     \u001b[90m━━━━━━━━━━━━━━━━━━━━━━━━━━━━━━━━━━━━━━━━\u001b[0m \u001b[32m44.7/44.7 kB\u001b[0m \u001b[31m5.9 MB/s\u001b[0m eta \u001b[36m0:00:00\u001b[0m\n",
            "\u001b[?25h  Preparing metadata (setup.py) ... \u001b[?25l\u001b[?25hdone\n",
            "Requirement already satisfied: dask[array]>=0.17.1 in /usr/local/lib/python3.9/dist-packages (from satpy) (2022.12.1)\n",
            "Requirement already satisfied: appdirs in /usr/local/lib/python3.9/dist-packages (from satpy) (1.4.4)\n",
            "Collecting pyorbital\n",
            "  Downloading pyorbital-1.7.3.tar.gz (75 kB)\n",
            "\u001b[2K     \u001b[90m━━━━━━━━━━━━━━━━━━━━━━━━━━━━━━━━━━━━━━━━\u001b[0m \u001b[32m75.3/75.3 kB\u001b[0m \u001b[31m10.4 MB/s\u001b[0m eta \u001b[36m0:00:00\u001b[0m\n",
            "\u001b[?25h  Preparing metadata (setup.py) ... \u001b[?25l\u001b[?25hdone\n",
            "Collecting trollimage>=1.20\n",
            "  Downloading trollimage-1.20.1.tar.gz (72 kB)\n",
            "\u001b[2K     \u001b[90m━━━━━━━━━━━━━━━━━━━━━━━━━━━━━━━━━━━━━━━━\u001b[0m \u001b[32m72.7/72.7 kB\u001b[0m \u001b[31m9.9 MB/s\u001b[0m eta \u001b[36m0:00:00\u001b[0m\n",
            "\u001b[?25h  Preparing metadata (setup.py) ... \u001b[?25l\u001b[?25hdone\n",
            "Collecting zarr\n",
            "  Downloading zarr-2.14.2-py3-none-any.whl (203 kB)\n",
            "\u001b[2K     \u001b[90m━━━━━━━━━━━━━━━━━━━━━━━━━━━━━━━━━━━━━━\u001b[0m \u001b[32m203.3/203.3 kB\u001b[0m \u001b[31m26.7 MB/s\u001b[0m eta \u001b[36m0:00:00\u001b[0m\n",
            "\u001b[?25hRequirement already satisfied: pooch in /usr/local/lib/python3.9/dist-packages (from satpy) (1.6.0)\n",
            "Requirement already satisfied: xarray!=0.13.0,>=0.10.1 in /usr/local/lib/python3.9/dist-packages (from satpy) (2022.12.0)\n",
            "Requirement already satisfied: partd>=0.3.10 in /usr/local/lib/python3.9/dist-packages (from dask[array]>=0.17.1->satpy) (1.4.0)\n",
            "Requirement already satisfied: toolz>=0.8.2 in /usr/local/lib/python3.9/dist-packages (from dask[array]>=0.17.1->satpy) (0.12.0)\n",
            "Requirement already satisfied: fsspec>=0.6.0 in /usr/local/lib/python3.9/dist-packages (from dask[array]>=0.17.1->satpy) (2023.4.0)\n",
            "Requirement already satisfied: cloudpickle>=1.1.1 in /usr/local/lib/python3.9/dist-packages (from dask[array]>=0.17.1->satpy) (2.2.1)\n",
            "Collecting munch>=2.3.2\n",
            "  Downloading munch-2.5.0-py2.py3-none-any.whl (10 kB)\n",
            "Requirement already satisfied: pytz>=2020.1 in /usr/local/lib/python3.9/dist-packages (from pandas>=1.0.0->geopandas) (2022.7.1)\n",
            "Requirement already satisfied: python-dateutil>=2.8.1 in /usr/local/lib/python3.9/dist-packages (from pandas>=1.0.0->geopandas) (2.8.2)\n",
            "Requirement already satisfied: charset-normalizer~=2.0.0 in /usr/local/lib/python3.9/dist-packages (from requests>=2.5.0->eumdac) (2.0.12)\n",
            "Requirement already satisfied: idna<4,>=2.5 in /usr/local/lib/python3.9/dist-packages (from requests>=2.5.0->eumdac) (3.4)\n",
            "Requirement already satisfied: urllib3<1.27,>=1.21.1 in /usr/local/lib/python3.9/dist-packages (from requests>=2.5.0->eumdac) (1.26.15)\n",
            "Requirement already satisfied: pyparsing>=2.1.6 in /usr/local/lib/python3.9/dist-packages (from snuggs>=1.4.1->rasterio) (3.0.9)\n",
            "Requirement already satisfied: six in /usr/local/lib/python3.9/dist-packages (from configobj->pyresample) (1.16.0)\n",
            "Requirement already satisfied: zipp>=0.5 in /usr/local/lib/python3.9/dist-packages (from importlib-metadata->pyresample) (3.15.0)\n",
            "Requirement already satisfied: scipy in /usr/local/lib/python3.9/dist-packages (from pyorbital->satpy) (1.10.1)\n",
            "Collecting numcodecs>=0.10.0\n",
            "  Downloading numcodecs-0.11.0-cp39-cp39-manylinux_2_17_x86_64.manylinux2014_x86_64.whl (6.7 MB)\n",
            "\u001b[2K     \u001b[90m━━━━━━━━━━━━━━━━━━━━━━━━━━━━━━━━━━━━━━━━\u001b[0m \u001b[32m6.7/6.7 MB\u001b[0m \u001b[31m91.4 MB/s\u001b[0m eta \u001b[36m0:00:00\u001b[0m\n",
            "\u001b[?25hCollecting fasteners\n",
            "  Downloading fasteners-0.18-py3-none-any.whl (18 kB)\n",
            "Collecting asciitree\n",
            "  Downloading asciitree-0.3.3.tar.gz (4.0 kB)\n",
            "  Preparing metadata (setup.py) ... \u001b[?25l\u001b[?25hdone\n",
            "Requirement already satisfied: entrypoints in /usr/local/lib/python3.9/dist-packages (from numcodecs>=0.10.0->zarr->satpy) (0.4)\n",
            "Requirement already satisfied: locket in /usr/local/lib/python3.9/dist-packages (from partd>=0.3.10->dask[array]>=0.17.1->satpy) (1.0.0)\n",
            "Building wheels for collected packages: pycrs, satpy, trollimage, donfig, pyorbital, trollsift, asciitree\n",
            "  Building wheel for pycrs (setup.py) ... \u001b[?25l\u001b[?25hdone\n",
            "  Created wheel for pycrs: filename=PyCRS-1.0.2-py3-none-any.whl size=32702 sha256=b9ee7198ae6dd9114e9e02e20271ea3141b367dd7c0544e7f8ffa7a6713cd9cd\n",
            "  Stored in directory: /root/.cache/pip/wheels/94/01/24/bc7bff66667ef317615144a15e04593a08d9bb322f2c427d6c\n",
            "  Building wheel for satpy (pyproject.toml) ... \u001b[?25l\u001b[?25hdone\n",
            "  Created wheel for satpy: filename=satpy-0.41.1-py2.py3-none-any.whl size=1466940 sha256=0043f4cf47aa7611ede6d6c7558c7c2e02f9d5de1ee145a9b00eb49e19648451\n",
            "  Stored in directory: /root/.cache/pip/wheels/a3/8a/c4/617d96fb75f0d305672e9935eb177585777b350ad7b5500897\n",
            "  Building wheel for trollimage (setup.py) ... \u001b[?25l\u001b[?25hdone\n",
            "  Created wheel for trollimage: filename=trollimage-1.20.1-py2.py3-none-any.whl size=59544 sha256=27b3631866ffd21172d287bce3b7bff61cbe47c2c248c1e22b1461ad7f786b74\n",
            "  Stored in directory: /root/.cache/pip/wheels/87/56/aa/856d8967e1a57ce08c4cbb14da8deac6073816a523a85d6472\n",
            "  Building wheel for donfig (setup.py) ... \u001b[?25l\u001b[?25hdone\n",
            "  Created wheel for donfig: filename=donfig-0.7.0-py2.py3-none-any.whl size=18803 sha256=a3af113560911318bf0794a2b46ba241b0bb3a0105879cc28184b687838e2ec4\n",
            "  Stored in directory: /root/.cache/pip/wheels/22/ec/92/491ec0756a50af9f23d07ed83b5d9c5360cd776fc8e639eb02\n",
            "  Building wheel for pyorbital (setup.py) ... \u001b[?25l\u001b[?25hdone\n",
            "  Created wheel for pyorbital: filename=pyorbital-1.7.3-py2.py3-none-any.whl size=62463 sha256=dbb782700c5b94c01231f375951fda12cfdeed99634669de714ec5e55480b78f\n",
            "  Stored in directory: /root/.cache/pip/wheels/bc/59/cb/fbe386d9667fe1712a2f5b1f339cd7bf1fde18860c48ddfdf1\n",
            "  Building wheel for trollsift (setup.py) ... \u001b[?25l\u001b[?25hdone\n",
            "  Created wheel for trollsift: filename=trollsift-0.5.0-py2.py3-none-any.whl size=22234 sha256=974bf7bfd3d5daee7adc8b2113b2304cac061d8abfb0d99647352f7cc7c24e68\n",
            "  Stored in directory: /root/.cache/pip/wheels/af/77/57/80cb473ad7190608b8d7b4ffe0095285afe41a6e0d101a1cf1\n",
            "  Building wheel for asciitree (setup.py) ... \u001b[?25l\u001b[?25hdone\n",
            "  Created wheel for asciitree: filename=asciitree-0.3.3-py3-none-any.whl size=5050 sha256=d7f0c672cf24708ccd88bbbadd15e6895a0813723675e375142540ab694c3a7d\n",
            "  Stored in directory: /root/.cache/pip/wheels/07/00/bc/937e878be0d781a569792a1e0e5acf149e463d4536453ec978\n",
            "Successfully built pycrs satpy trollimage donfig pyorbital trollsift asciitree\n",
            "Installing collected packages: pycrs, entrypoint2, easyprocess, asciitree, trollsift, trollimage, snuggs, pyunpack, pyproj, pykdtree, numcodecs, munch, fasteners, donfig, configobj, cligj, click-plugins, affine, zarr, rasterio, pyresample, pyorbital, fiona, eumdac, geopandas, satpy\n",
            "Successfully installed affine-2.4.0 asciitree-0.3.3 click-plugins-1.1.1 cligj-0.7.2 configobj-5.0.8 donfig-0.7.0 easyprocess-1.1 entrypoint2-1.1 eumdac-2.0.1 fasteners-0.18 fiona-1.9.3 geopandas-0.12.2 munch-2.5.0 numcodecs-0.11.0 pycrs-1.0.2 pykdtree-1.3.7.post0 pyorbital-1.7.3 pyproj-3.5.0 pyresample-1.26.1 pyunpack-0.3 rasterio-1.3.6 satpy-0.41.1 snuggs-1.4.7 trollimage-1.20.1 trollsift-0.5.0 zarr-2.14.2\n"
          ]
        }
      ]
    },
    {
      "cell_type": "code",
      "source": [
        "import os\n",
        "import sys\n",
        "from google.colab import drive"
      ],
      "metadata": {
        "id": "-8-0xiVr4n6T"
      },
      "execution_count": 2,
      "outputs": []
    },
    {
      "cell_type": "code",
      "source": [
        "from google.colab import drive\n",
        "drive.mount('/content/drive')"
      ],
      "metadata": {
        "colab": {
          "base_uri": "https://localhost:8080/"
        },
        "id": "fjViqoSIJ-_p",
        "outputId": "068f02eb-cbd5-4712-b10a-5d394e8df621"
      },
      "execution_count": 3,
      "outputs": [
        {
          "output_type": "stream",
          "name": "stdout",
          "text": [
            "Drive already mounted at /content/drive; to attempt to forcibly remount, call drive.mount(\"/content/drive\", force_remount=True).\n"
          ]
        }
      ]
    },
    {
      "cell_type": "code",
      "source": [
        "project_dir = \"/content/drive/MyDrive/Colab Notebooks/Seviri\"\n",
        "sys.path.insert(0,project_dir)"
      ],
      "metadata": {
        "id": "337LPoHd5KXi"
      },
      "execution_count": 4,
      "outputs": []
    },
    {
      "cell_type": "code",
      "source": [
        "from classes.areaclass import AreaDef"
      ],
      "metadata": {
        "id": "cnYhyMbsEaeg"
      },
      "execution_count": 5,
      "outputs": []
    },
    {
      "cell_type": "code",
      "source": [
        "from classes.preprocessclass import PreProcess\n",
        "from functions.logfuncs import MessageLog\n",
        "from classes.areaclass import AreaDef\n",
        "\n",
        "log = MessageLog(dir_=project_dir)\n",
        "pp_ = PreProcess(logs=log)\n",
        "\n",
        "#pp_.preprocess_dinsar_ts()\n"
      ],
      "metadata": {
        "colab": {
          "base_uri": "https://localhost:8080/"
        },
        "id": "wT3EdsLe47Hc",
        "outputId": "ab56751c-c457-4e08-eccd-017e7716aad3"
      },
      "execution_count": 6,
      "outputs": [
        {
          "output_type": "stream",
          "name": "stdout",
          "text": [
            "\n",
            "[2023-04-26 18:12:57] - Session start.\n",
            "[2023-04-26 18:12:57] - Get configuration data from /content/drive/MyDrive/Colab Notebooks/Seviri/config/analysis_config.json - done\n",
            "[2023-04-26 18:12:57] - Perform <AreaDef> class initialization\n",
            "[2023-04-26 18:12:57] - Create polygon - done\n",
            "[2023-04-26 18:12:57] - Convert feature - done\n",
            "[2023-04-26 18:12:57] - Create polygon - done\n",
            "[2023-04-26 18:12:57] - Convert feature - done\n",
            "[2023-04-26 18:12:57] - <AreaDef> class initialization is done\n",
            "[2023-04-26 18:12:57] - Get configuration data from /content/drive/MyDrive/Colab Notebooks/Seviri/config/analysis_config.json - done\n",
            "[2023-04-26 18:12:57] - Perform <DateTimeDef> class initialization - failed to initialize the <df_dt_main> object\n",
            "[2023-04-26 18:12:57] - File /content/drive/MyDrive/Colab Notebooks/Seviri/classes/datetimeclass.py, line 92 in <class 'FileNotFoundError'>\n",
            "[2023-04-26 18:12:57] - AttributeError: [Errno 2] No such file or directory: 'db/aux_data/DateTimeListDinsar.csv' - failed to initialize the <df_dt_aux> object\n",
            "[2023-04-26 18:12:57] - File /content/drive/MyDrive/Colab Notebooks/Seviri/classes/datetimeclass.py, line 111 in <class 'FileNotFoundError'>\n",
            "[2023-04-26 18:12:57] - AttributeError: [Errno 2] No such file or directory: 'db/aux_data/DateTimeListSeviri.csv'\n",
            "[2023-04-26 18:12:57] - <DateTimeDef> class initialization is done\n",
            "[2023-04-26 18:12:57] - Get configuration data from /content/drive/MyDrive/Colab Notebooks/Seviri/config/archive_config.json"
          ]
        },
        {
          "output_type": "stream",
          "name": "stderr",
          "text": [
            "/usr/local/lib/python3.9/dist-packages/pyproj/crs/crs.py:141: FutureWarning: '+init=<authority>:<code>' syntax is deprecated. '<authority>:<code>' is the preferred initialization method. When making the change, be mindful of axis order changes: https://pyproj4.github.io/pyproj/stable/gotchas.html#axis-order-changes-in-proj-6\n",
            "  in_crs_string = _prepare_from_proj_string(in_crs_string)\n",
            "/usr/local/lib/python3.9/dist-packages/pyproj/crs/crs.py:141: FutureWarning: '+init=<authority>:<code>' syntax is deprecated. '<authority>:<code>' is the preferred initialization method. When making the change, be mindful of axis order changes: https://pyproj4.github.io/pyproj/stable/gotchas.html#axis-order-changes-in-proj-6\n",
            "  in_crs_string = _prepare_from_proj_string(in_crs_string)\n"
          ]
        },
        {
          "output_type": "stream",
          "name": "stdout",
          "text": [
            " - done\n",
            "[2023-04-26 18:12:58] - Get configuration data from /content/drive/MyDrive/Colab Notebooks/Seviri/config/analysis_config.json - done\n",
            "[2023-04-26 18:12:58] - Get configuration data from /content/drive/MyDrive/Colab Notebooks/Seviri/config/seviri_config.json - done\n",
            "[2023-04-26 18:12:58] - Get the raster area definition - done"
          ]
        }
      ]
    }
  ]
}